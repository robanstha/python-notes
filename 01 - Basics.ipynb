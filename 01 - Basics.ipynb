{
 "cells": [
  {
   "cell_type": "code",
   "execution_count": 2,
   "id": "d5e70ec7-a027-466c-b888-3fe4f97207e0",
   "metadata": {},
   "outputs": [
    {
     "data": {
      "text/plain": [
       "(4, 5, 6)"
      ]
     },
     "execution_count": 2,
     "metadata": {},
     "output_type": "execute_result"
    }
   ],
   "source": [
    "tup = 4, 5, 6\n",
    "\n",
    "tup"
   ]
  },
  {
   "cell_type": "markdown",
   "id": "cb9037fe-ade9-4a5c-8bec-7e3b00e7c0ab",
   "metadata": {},
   "source": [
    "# Tuples\n",
    "\n",
    "Fixed length immutable sequence of Python objects"
   ]
  },
  {
   "cell_type": "code",
   "execution_count": null,
   "id": "20d5e71a-1b76-4b72-ac18-d6d07619cc9e",
   "metadata": {},
   "outputs": [],
   "source": []
  },
  {
   "cell_type": "code",
   "execution_count": 3,
   "id": "d113e352-8f65-4ffc-9c6a-3da14dcd2859",
   "metadata": {},
   "outputs": [
    {
     "data": {
      "text/plain": [
       "((4, 5, 6), (7, 8))"
      ]
     },
     "execution_count": 3,
     "metadata": {},
     "output_type": "execute_result"
    }
   ],
   "source": [
    "nested_tup = (4,5,6),(7,8)\n",
    "nested_tup"
   ]
  },
  {
   "cell_type": "code",
   "execution_count": 4,
   "id": "e3c1f88a-5926-4d2b-be7f-3839138a209f",
   "metadata": {},
   "outputs": [
    {
     "data": {
      "text/plain": [
       "(1, 2, 3)"
      ]
     },
     "execution_count": 4,
     "metadata": {},
     "output_type": "execute_result"
    }
   ],
   "source": [
    "b = tuple([1,2,3])\n",
    "b"
   ]
  },
  {
   "cell_type": "code",
   "execution_count": 7,
   "id": "37adb09e-7f1f-4e8e-a0a6-d13557303913",
   "metadata": {},
   "outputs": [
    {
     "data": {
      "text/plain": [
       "(1,)"
      ]
     },
     "execution_count": 7,
     "metadata": {},
     "output_type": "execute_result"
    }
   ],
   "source": [
    "\n",
    "c = (1,)\n",
    "c"
   ]
  },
  {
   "cell_type": "code",
   "execution_count": 9,
   "id": "8f7df0b5-bc00-4101-a6a8-56a4e01025da",
   "metadata": {},
   "outputs": [
    {
     "data": {
      "text/plain": [
       "(1, [2, 4])"
      ]
     },
     "execution_count": 9,
     "metadata": {},
     "output_type": "execute_result"
    }
   ],
   "source": [
    "# Only list can be changed inside tuple\n",
    "a = (1, [2,3])\n",
    "a[1][1] = 4\n",
    "a"
   ]
  },
  {
   "cell_type": "code",
   "execution_count": 10,
   "id": "89d190bc-c094-427c-ac2d-7b854f3b58e9",
   "metadata": {},
   "outputs": [
    {
     "data": {
      "text/plain": [
       "(1, 2, 1, 2)"
      ]
     },
     "execution_count": 10,
     "metadata": {},
     "output_type": "execute_result"
    }
   ],
   "source": [
    "s = (1,2)\n",
    "s * 2"
   ]
  },
  {
   "cell_type": "code",
   "execution_count": 12,
   "id": "df508af4-4625-4f7c-ab0c-6a63924004d3",
   "metadata": {},
   "outputs": [
    {
     "data": {
      "text/plain": [
       "(1, 2, 1, 2, 'a')"
      ]
     },
     "execution_count": 12,
     "metadata": {},
     "output_type": "execute_result"
    }
   ],
   "source": [
    "s + s + ('a',)"
   ]
  },
  {
   "cell_type": "code",
   "execution_count": 14,
   "id": "76b0b9e1-98a8-4a22-b97e-e0fb756f587f",
   "metadata": {},
   "outputs": [
    {
     "data": {
      "text/plain": [
       "1"
      ]
     },
     "execution_count": 14,
     "metadata": {},
     "output_type": "execute_result"
    }
   ],
   "source": [
    "# Unpacking tuples\n",
    "\n",
    "a, b = (1,2)\n",
    "\n",
    "a"
   ]
  },
  {
   "cell_type": "code",
   "execution_count": 18,
   "id": "2bbff250-8c04-4ecf-9050-f19939696f49",
   "metadata": {},
   "outputs": [
    {
     "data": {
      "text/plain": [
       "1"
      ]
     },
     "execution_count": 18,
     "metadata": {},
     "output_type": "execute_result"
    }
   ],
   "source": [
    "# Tuple counts\n",
    "s = (1,1,1,2,2,2,3,3,3,4,5)\n",
    "s.count(4)"
   ]
  },
  {
   "cell_type": "markdown",
   "id": "41b0a915-6ae6-4ed0-9303-3dfa0e7d42a1",
   "metadata": {},
   "source": [
    "# List"
   ]
  },
  {
   "cell_type": "code",
   "execution_count": 20,
   "id": "5efad946-c19a-4abb-92b9-a9d3da9b52dd",
   "metadata": {},
   "outputs": [
    {
     "data": {
      "text/plain": [
       "[1, 'a', None]"
      ]
     },
     "execution_count": 20,
     "metadata": {},
     "output_type": "execute_result"
    }
   ],
   "source": [
    "a = [1, 'a', None]\n",
    "a"
   ]
  },
  {
   "cell_type": "code",
   "execution_count": 21,
   "id": "cd5b4ff5-ffcd-425a-bf2f-7cc6b3b373a4",
   "metadata": {},
   "outputs": [
    {
     "data": {
      "text/plain": [
       "[1, 'a', None, 'last']"
      ]
     },
     "execution_count": 21,
     "metadata": {},
     "output_type": "execute_result"
    }
   ],
   "source": [
    "a.append('last')\n",
    "a"
   ]
  },
  {
   "cell_type": "code",
   "execution_count": 23,
   "id": "176fa2e6-e71a-4310-9b12-b79f68f09c99",
   "metadata": {},
   "outputs": [
    {
     "data": {
      "text/plain": [
       "[1, 'red', 'red', 'a', None, 'last']"
      ]
     },
     "execution_count": 23,
     "metadata": {},
     "output_type": "execute_result"
    }
   ],
   "source": [
    "a.insert(1,'red')\n",
    "a"
   ]
  },
  {
   "cell_type": "code",
   "execution_count": 24,
   "id": "76b91f6d-c901-4d9b-a7f4-c853e25fb8de",
   "metadata": {},
   "outputs": [
    {
     "data": {
      "text/plain": [
       "'red'"
      ]
     },
     "execution_count": 24,
     "metadata": {},
     "output_type": "execute_result"
    }
   ],
   "source": [
    "a.pop(2)"
   ]
  },
  {
   "cell_type": "code",
   "execution_count": 25,
   "id": "831a6a5f-ffda-474d-932e-8eb0b040d8c6",
   "metadata": {},
   "outputs": [
    {
     "data": {
      "text/plain": [
       "[1, 'red', 'a', None, 'last']"
      ]
     },
     "execution_count": 25,
     "metadata": {},
     "output_type": "execute_result"
    }
   ],
   "source": [
    "a"
   ]
  },
  {
   "cell_type": "code",
   "execution_count": 26,
   "id": "f564cdde-8c05-4b23-8bd7-25535cf61d4c",
   "metadata": {},
   "outputs": [
    {
     "data": {
      "text/plain": [
       "[1, 'red', 'a', None, 'last', 'red']"
      ]
     },
     "execution_count": 26,
     "metadata": {},
     "output_type": "execute_result"
    }
   ],
   "source": [
    "a.append('red')\n",
    "a"
   ]
  },
  {
   "cell_type": "code",
   "execution_count": 27,
   "id": "b8c04e1f-a09a-4482-961d-84f78bf6afc5",
   "metadata": {},
   "outputs": [
    {
     "data": {
      "text/plain": [
       "[1, 'a', None, 'last', 'red']"
      ]
     },
     "execution_count": 27,
     "metadata": {},
     "output_type": "execute_result"
    }
   ],
   "source": [
    "a.remove('red')\n",
    "a # Note it removes the first one"
   ]
  },
  {
   "cell_type": "code",
   "execution_count": 29,
   "id": "45520711-3dc9-4c1f-ad4e-6ac2616abdaa",
   "metadata": {},
   "outputs": [
    {
     "data": {
      "text/plain": [
       "[1, 2, 3, 4, 5]"
      ]
     },
     "execution_count": 29,
     "metadata": {},
     "output_type": "execute_result"
    }
   ],
   "source": [
    "## Append two values\n",
    "a = [1,2,3]\n",
    "\n",
    "a.extend([4,5])\n",
    "a"
   ]
  },
  {
   "cell_type": "code",
   "execution_count": 30,
   "id": "f88e9fcb-fdaf-4a19-95bb-8ac4303b152d",
   "metadata": {},
   "outputs": [
    {
     "data": {
      "text/plain": [
       "[1, 2, 3, 4, 5, 4, 5]"
      ]
     },
     "execution_count": 30,
     "metadata": {},
     "output_type": "execute_result"
    }
   ],
   "source": [
    "a + [4,5] # This is a new object"
   ]
  },
  {
   "cell_type": "code",
   "execution_count": 32,
   "id": "a702d40f-2b2c-4d08-a537-efcd73bf5433",
   "metadata": {},
   "outputs": [
    {
     "data": {
      "text/plain": [
       "[1, 2, 3, 4, 5]"
      ]
     },
     "execution_count": 32,
     "metadata": {},
     "output_type": "execute_result"
    }
   ],
   "source": [
    "# Sorting list\n",
    "a = [5, 4, 3, 2, 1]\n",
    "a.sort() # Sort right away\n",
    "a"
   ]
  },
  {
   "cell_type": "code",
   "execution_count": 33,
   "id": "a177ba97-4469-4d10-87f7-aca6a2cdecba",
   "metadata": {},
   "outputs": [
    {
     "name": "stdout",
     "output_type": "stream",
     "text": [
      "a [5, 4, 3, 2, 1]\n"
     ]
    }
   ],
   "source": [
    "a = [5, 4, 3, 2, 1]\n",
    "b = sorted(a)\n",
    "print(\"a\", a)"
   ]
  },
  {
   "cell_type": "code",
   "execution_count": 36,
   "id": "02443251-b9fe-4871-a0eb-9984be94518a",
   "metadata": {},
   "outputs": [
    {
     "data": {
      "text/plain": [
       "['z', 'He', 'ab', 'saw', 'six', 'abc', 'small', 'foxes']"
      ]
     },
     "execution_count": 36,
     "metadata": {},
     "output_type": "execute_result"
    }
   ],
   "source": [
    "# Sort with key\n",
    "b = ['saw', 'small', 'He', 'foxes', 'six', 'z', 'ab', 'abc']\n",
    "b.sort(key=len) # Ex: sort a collection of strings by their lengths first\n",
    "b\n"
   ]
  },
  {
   "cell_type": "markdown",
   "id": "da21bc29-7d5c-492b-a300-ed4839032a2a",
   "metadata": {},
   "source": [
    "# Binary Search and maintaining sorted list\n",
    "\n",
    "The built-in bisect module implements binary search and insertion into a sorted list.\n",
    "\n",
    "bisect.bisect finds the location where an element should be inserted to keep it sorted, while bisect.insort actually inserts the element into that location:"
   ]
  },
  {
   "cell_type": "code",
   "execution_count": 37,
   "id": "03a1ac78-88ba-43db-87b4-0f5a094b90b2",
   "metadata": {},
   "outputs": [
    {
     "data": {
      "text/plain": [
       "4"
      ]
     },
     "execution_count": 37,
     "metadata": {},
     "output_type": "execute_result"
    }
   ],
   "source": [
    "import bisect\n",
    "c = [1, 2, 2, 2, 3, 4, 7]\n",
    "\n",
    "bisect.bisect(c, 2)"
   ]
  },
  {
   "cell_type": "code",
   "execution_count": 38,
   "id": "33890440-2f39-4a79-9006-4255a0867565",
   "metadata": {},
   "outputs": [
    {
     "data": {
      "text/plain": [
       "6"
      ]
     },
     "execution_count": 38,
     "metadata": {},
     "output_type": "execute_result"
    }
   ],
   "source": [
    "bisect.bisect(c,5)"
   ]
  },
  {
   "cell_type": "code",
   "execution_count": 40,
   "id": "1094d697-12c0-4008-b808-bdb8e70efc17",
   "metadata": {},
   "outputs": [],
   "source": [
    "bisect.insort(c,6)"
   ]
  },
  {
   "cell_type": "code",
   "execution_count": 41,
   "id": "6b7a616c-9f42-4d9e-96fe-8cf66f866cb9",
   "metadata": {},
   "outputs": [
    {
     "data": {
      "text/plain": [
       "[1, 2, 2, 2, 3, 4, 6, 6, 7]"
      ]
     },
     "execution_count": 41,
     "metadata": {},
     "output_type": "execute_result"
    }
   ],
   "source": [
    "c"
   ]
  },
  {
   "cell_type": "markdown",
   "id": "f398f52a-f665-4461-a26b-06c3f1114ff1",
   "metadata": {},
   "source": [
    "# Slicing list\n",
    "\n",
    "x[starting : end until but not including : step]"
   ]
  },
  {
   "cell_type": "code",
   "execution_count": 42,
   "id": "5a6c785c-2889-4713-a3b5-5c7303b1e2dd",
   "metadata": {},
   "outputs": [
    {
     "data": {
      "text/plain": [
       "[2, 3, 4, 5]"
      ]
     },
     "execution_count": 42,
     "metadata": {},
     "output_type": "execute_result"
    }
   ],
   "source": [
    "seq = [1,2,3,4,5,6,7]\n",
    "\n",
    "seq[1:5]"
   ]
  },
  {
   "cell_type": "code",
   "execution_count": 44,
   "id": "22a24798-0f0e-4ce4-b5a1-2f3bc628b79e",
   "metadata": {},
   "outputs": [
    {
     "data": {
      "text/plain": [
       "[2, 4]"
      ]
     },
     "execution_count": 44,
     "metadata": {},
     "output_type": "execute_result"
    }
   ],
   "source": [
    "seq[1:5:2]"
   ]
  },
  {
   "cell_type": "code",
   "execution_count": 45,
   "id": "d28fa596-8cd3-4c71-bf83-66677934dd55",
   "metadata": {},
   "outputs": [
    {
     "data": {
      "text/plain": [
       "[1, 2, 3, 4, 5, 6, 7]"
      ]
     },
     "execution_count": 45,
     "metadata": {},
     "output_type": "execute_result"
    }
   ],
   "source": [
    "seq[:]"
   ]
  },
  {
   "cell_type": "code",
   "execution_count": 46,
   "id": "633280ab-5d1d-4be8-a29e-61de6d29d804",
   "metadata": {},
   "outputs": [
    {
     "data": {
      "text/plain": [
       "[5, 6, 7]"
      ]
     },
     "execution_count": 46,
     "metadata": {},
     "output_type": "execute_result"
    }
   ],
   "source": [
    "seq[4:]"
   ]
  },
  {
   "cell_type": "code",
   "execution_count": 47,
   "id": "20cc5915-4f86-43ad-9408-2dde140fe257",
   "metadata": {},
   "outputs": [
    {
     "data": {
      "text/plain": [
       "[1, 3, 5, 7]"
      ]
     },
     "execution_count": 47,
     "metadata": {},
     "output_type": "execute_result"
    }
   ],
   "source": [
    "seq[::2]"
   ]
  },
  {
   "cell_type": "code",
   "execution_count": 48,
   "id": "3d6df360-3f9f-4211-a95c-71c0d96bfa5a",
   "metadata": {},
   "outputs": [
    {
     "data": {
      "text/plain": [
       "[7, 6, 5, 4, 3, 2, 1]"
      ]
     },
     "execution_count": 48,
     "metadata": {},
     "output_type": "execute_result"
    }
   ],
   "source": [
    "seq[::-1]"
   ]
  },
  {
   "cell_type": "code",
   "execution_count": 50,
   "id": "70e503da-8300-4172-996a-07e16dcac603",
   "metadata": {},
   "outputs": [
    {
     "data": {
      "text/plain": [
       "[3, 4, 5, 6]"
      ]
     },
     "execution_count": 50,
     "metadata": {},
     "output_type": "execute_result"
    }
   ],
   "source": [
    "seq[2:-1]"
   ]
  },
  {
   "cell_type": "markdown",
   "id": "f314c2c6-e23e-4723-98b3-eb36ce22cf60",
   "metadata": {},
   "source": [
    "# Zip lists"
   ]
  },
  {
   "cell_type": "code",
   "execution_count": 51,
   "id": "e532deb6-c3d9-4e70-8210-c9e8450a5894",
   "metadata": {},
   "outputs": [
    {
     "data": {
      "text/plain": [
       "[('foo', 'one'), ('bar', 'two'), ('baz', 'three')]"
      ]
     },
     "execution_count": 51,
     "metadata": {},
     "output_type": "execute_result"
    }
   ],
   "source": [
    "s1 = ['foo', 'bar', 'baz']\n",
    "s2 = ['one', 'two', 'three']\n",
    "\n",
    "zipped = zip(s1, s2)\n",
    "list(zipped)"
   ]
  },
  {
   "cell_type": "markdown",
   "id": "57006a8d-d3e2-4f7b-8593-6552a011dc9c",
   "metadata": {},
   "source": [
    "### zip can take arbitrary number of sequences and the number of elements it produces is determined by the shortest sequence"
   ]
  },
  {
   "cell_type": "code",
   "execution_count": 53,
   "id": "4f7e4109-5072-44f4-a630-151b829a51ca",
   "metadata": {},
   "outputs": [
    {
     "data": {
      "text/plain": [
       "[('foo', 'one', True), ('bar', 'two', False)]"
      ]
     },
     "execution_count": 53,
     "metadata": {},
     "output_type": "execute_result"
    }
   ],
   "source": [
    "s3 = [True, False]\n",
    "\n",
    "list(zip(s1, s2, s3)) # Note baz three is removed"
   ]
  },
  {
   "cell_type": "markdown",
   "id": "780ab90c-e091-4cad-a54b-63f4c9b22ae0",
   "metadata": {},
   "source": [
    "# Reverse list"
   ]
  },
  {
   "cell_type": "code",
   "execution_count": 55,
   "id": "729f6439-2a4d-4883-a64e-08fc5fd1fa6d",
   "metadata": {},
   "outputs": [
    {
     "data": {
      "text/plain": [
       "[9, 8, 7, 6, 5, 4, 3, 2, 1, 0]"
      ]
     },
     "execution_count": 55,
     "metadata": {},
     "output_type": "execute_result"
    }
   ],
   "source": [
    "list(reversed(range(0,10)))"
   ]
  },
  {
   "cell_type": "markdown",
   "id": "bcb4276f-bf86-4559-bd73-b55fcba21a2f",
   "metadata": {},
   "source": [
    "# Dictionary / Hash map / Associative array\n",
    "\n",
    "* Key must be hashable."
   ]
  },
  {
   "cell_type": "code",
   "execution_count": 56,
   "id": "f43e7dd6-b93d-4396-bcbc-c7ebd9f9fbf0",
   "metadata": {},
   "outputs": [
    {
     "data": {
      "text/plain": [
       "{'a': 'some value', 'b': [1, 2, 3]}"
      ]
     },
     "execution_count": 56,
     "metadata": {},
     "output_type": "execute_result"
    }
   ],
   "source": [
    "empty_dict = {}\n",
    "\n",
    "d1 = { 'a': 'some value', 'b': [1,2,3]}\n",
    "d1"
   ]
  },
  {
   "cell_type": "code",
   "execution_count": 57,
   "id": "2c3433db-4d54-415c-9551-4bd15b96822f",
   "metadata": {},
   "outputs": [
    {
     "data": {
      "text/plain": [
       "-3747692171458182321"
      ]
     },
     "execution_count": 57,
     "metadata": {},
     "output_type": "execute_result"
    }
   ],
   "source": [
    "hash(\"Roban\")"
   ]
  },
  {
   "cell_type": "code",
   "execution_count": 64,
   "id": "c9598ce3-d758-4012-a912-ce5f3eb2fbee",
   "metadata": {},
   "outputs": [
    {
     "ename": "TypeError",
     "evalue": "unhashable type: 'list'",
     "output_type": "error",
     "traceback": [
      "\u001b[1;31m---------------------------------------------------------------------------\u001b[0m",
      "\u001b[1;31mTypeError\u001b[0m                                 Traceback (most recent call last)",
      "Cell \u001b[1;32mIn[64], line 1\u001b[0m\n\u001b[1;32m----> 1\u001b[0m \u001b[38;5;28;43mhash\u001b[39;49m\u001b[43m(\u001b[49m\u001b[43m[\u001b[49m\u001b[38;5;241;43m1\u001b[39;49m\u001b[43m,\u001b[49m\u001b[38;5;241;43m2\u001b[39;49m\u001b[43m,\u001b[49m\u001b[38;5;241;43m3\u001b[39;49m\u001b[43m]\u001b[49m\u001b[43m)\u001b[49m \u001b[38;5;66;03m# Can't use list as keys\u001b[39;00m\n",
      "\u001b[1;31mTypeError\u001b[0m: unhashable type: 'list'"
     ]
    }
   ],
   "source": [
    "hash([1,2,3]) # Can't use list as keys\n",
    "hash((1,[2], 'tuple'))"
   ]
  },
  {
   "cell_type": "code",
   "execution_count": 61,
   "id": "5d21f26b-b994-494b-85c6-d300f97403ea",
   "metadata": {},
   "outputs": [
    {
     "data": {
      "text/plain": [
       "{'a': 'New', 'b': [1, 2, 3], 'new_key': 'abc'}"
      ]
     },
     "execution_count": 61,
     "metadata": {},
     "output_type": "execute_result"
    }
   ],
   "source": [
    "# Update method\n",
    "\n",
    "d1.update({'a': \"New\", \"new_key\": \"abc\"})\n",
    "d1"
   ]
  },
  {
   "cell_type": "code",
   "execution_count": 66,
   "id": "12512fb8-1ad1-4a72-8dc5-79578df6635c",
   "metadata": {},
   "outputs": [
    {
     "data": {
      "text/plain": [
       "-6427616771983765140"
      ]
     },
     "execution_count": 66,
     "metadata": {},
     "output_type": "execute_result"
    }
   ],
   "source": [
    "# Hashable objects must be immutable\n",
    "hash('string')\n",
    "hash((1,(2,), 'tuple'))"
   ]
  },
  {
   "cell_type": "markdown",
   "id": "c46493e2-5096-4ce6-8608-781df95592c8",
   "metadata": {},
   "source": [
    "# Set\n",
    "\n",
    "unordered collection of unique elements\n",
    "\n",
    "Just like dicts but keys only, no values"
   ]
  },
  {
   "cell_type": "code",
   "execution_count": 67,
   "id": "1c5926ab-1113-4f52-9a47-3203a0a9572a",
   "metadata": {},
   "outputs": [
    {
     "data": {
      "text/plain": [
       "{1, 2, 3}"
      ]
     },
     "execution_count": 67,
     "metadata": {},
     "output_type": "execute_result"
    }
   ],
   "source": [
    "{1,2,3}"
   ]
  },
  {
   "cell_type": "code",
   "execution_count": 69,
   "id": "b08a20fa-0d89-43f0-bd26-a6d49596f9dd",
   "metadata": {},
   "outputs": [
    {
     "data": {
      "text/plain": [
       "{1, 2, 3}"
      ]
     },
     "execution_count": 69,
     "metadata": {},
     "output_type": "execute_result"
    }
   ],
   "source": [
    "set([1,2,3])"
   ]
  },
  {
   "cell_type": "code",
   "execution_count": 72,
   "id": "0cefa5fe-2f25-49d3-b449-12f98b55664e",
   "metadata": {},
   "outputs": [
    {
     "data": {
      "text/plain": [
       "{2, 3, 4}"
      ]
     },
     "execution_count": 72,
     "metadata": {},
     "output_type": "execute_result"
    }
   ],
   "source": [
    "s={2,2,2,3,3,3,4,4,4}\n",
    "s"
   ]
  },
  {
   "cell_type": "code",
   "execution_count": 73,
   "id": "528f12e9-116a-4cec-9ee6-3fc87657b9b5",
   "metadata": {},
   "outputs": [
    {
     "ename": "TypeError",
     "evalue": "'set' object is not subscriptable",
     "output_type": "error",
     "traceback": [
      "\u001b[1;31m---------------------------------------------------------------------------\u001b[0m",
      "\u001b[1;31mTypeError\u001b[0m                                 Traceback (most recent call last)",
      "Cell \u001b[1;32mIn[73], line 1\u001b[0m\n\u001b[1;32m----> 1\u001b[0m \u001b[43ms\u001b[49m\u001b[43m[\u001b[49m\u001b[38;5;241;43m2\u001b[39;49m\u001b[43m]\u001b[49m\n",
      "\u001b[1;31mTypeError\u001b[0m: 'set' object is not subscriptable"
     ]
    }
   ],
   "source": [
    "s[2]"
   ]
  },
  {
   "cell_type": "markdown",
   "id": "b6903d23-f2a4-4b95-b0a9-c065acf7892d",
   "metadata": {},
   "source": [
    "### Union and intersection"
   ]
  },
  {
   "cell_type": "code",
   "execution_count": 75,
   "id": "cffc55a1-effc-492c-8e8f-0c52c131bab2",
   "metadata": {},
   "outputs": [],
   "source": [
    "a = {1,2,3}\n",
    "b = {3,4,5}"
   ]
  },
  {
   "cell_type": "code",
   "execution_count": 76,
   "id": "6bedc936-e196-41d4-9303-a4d93b322ecc",
   "metadata": {},
   "outputs": [
    {
     "data": {
      "text/plain": [
       "{1, 2, 3, 4, 5}"
      ]
     },
     "execution_count": 76,
     "metadata": {},
     "output_type": "execute_result"
    }
   ],
   "source": [
    "a.union(b)"
   ]
  },
  {
   "cell_type": "code",
   "execution_count": 77,
   "id": "d8cc4172-1bb2-4d48-afc2-2dde59165651",
   "metadata": {},
   "outputs": [
    {
     "data": {
      "text/plain": [
       "{1, 2, 3, 4, 5}"
      ]
     },
     "execution_count": 77,
     "metadata": {},
     "output_type": "execute_result"
    }
   ],
   "source": [
    "a | b"
   ]
  },
  {
   "cell_type": "code",
   "execution_count": 78,
   "id": "77f06827-8227-4aea-98e7-c0fb0b0a05aa",
   "metadata": {},
   "outputs": [
    {
     "data": {
      "text/plain": [
       "{3}"
      ]
     },
     "execution_count": 78,
     "metadata": {},
     "output_type": "execute_result"
    }
   ],
   "source": [
    "a.intersection(b)"
   ]
  },
  {
   "cell_type": "code",
   "execution_count": 79,
   "id": "6bd9ef32-e441-4cb6-a1b0-cd516d95cd4e",
   "metadata": {},
   "outputs": [
    {
     "data": {
      "text/plain": [
       "{3}"
      ]
     },
     "execution_count": 79,
     "metadata": {},
     "output_type": "execute_result"
    }
   ],
   "source": [
    "a & b"
   ]
  },
  {
   "cell_type": "markdown",
   "id": "c3433d72-73e7-49fb-a536-b0d984db3d2e",
   "metadata": {},
   "source": [
    "# List, set and dict comprehensions\n",
    "\n",
    "[expr for val in collection if condition]\n",
    "\n",
    "equivalent to \n",
    "\n",
    "```\n",
    "result = []\n",
    "for val in collection:\n",
    "   if condition:\n",
    "     result.append(expr)\n",
    "```"
   ]
  },
  {
   "cell_type": "code",
   "execution_count": 80,
   "id": "66cdd0d4-4823-43c8-b093-efb5def40847",
   "metadata": {},
   "outputs": [
    {
     "data": {
      "text/plain": [
       "['BAT', 'CAR', 'DOVE', 'PYTHON']"
      ]
     },
     "execution_count": 80,
     "metadata": {},
     "output_type": "execute_result"
    }
   ],
   "source": [
    "strings = ['a', 'as', 'bat', 'car', 'dove', 'python']\n",
    "[x.upper() for x in strings if len(x) > 2]"
   ]
  },
  {
   "cell_type": "markdown",
   "id": "1d87277f-6ad9-4078-9327-ac2dd67b7412",
   "metadata": {},
   "source": [
    "### Dict comprehension\n",
    "\n",
    "dict_comp = {key-expr: value-expr for value in collection if condition}"
   ]
  },
  {
   "cell_type": "code",
   "execution_count": 81,
   "id": "62b76035-7f44-4fbf-82bf-54af9384320c",
   "metadata": {},
   "outputs": [
    {
     "name": "stdout",
     "output_type": "stream",
     "text": [
      "{'c': 3, 'd': 4}\n"
     ]
    }
   ],
   "source": [
    "dict1 = {'a':1, \"b\":2, \"c\":3, \"d\":4}\n",
    "\n",
    "dict_cond = {k:v for (k,v) in dict1.items() if v>2}\n",
    "\n",
    "print(dict_cond)"
   ]
  },
  {
   "cell_type": "markdown",
   "id": "9ea32373-c49c-4c4a-8345-bd4d9a70870b",
   "metadata": {},
   "source": [
    "### Set comprehension\n",
    "\n",
    "set_comp = {expr for value in collection if condition}"
   ]
  },
  {
   "cell_type": "code",
   "execution_count": 82,
   "id": "0be7633b-39e6-45f6-bdbb-3182d37289cf",
   "metadata": {},
   "outputs": [
    {
     "data": {
      "text/plain": [
       "{'BAT', 'CAR', 'DOVE', 'PYTHON'}"
      ]
     },
     "execution_count": 82,
     "metadata": {},
     "output_type": "execute_result"
    }
   ],
   "source": [
    "strings = {'a', 'as', 'bat', 'car', 'dove', 'python'}\n",
    "{x.upper() for x in strings if len(x) > 2}"
   ]
  },
  {
   "cell_type": "markdown",
   "id": "2e7e5294-9d1d-44b6-99f6-2b92e8b59bfd",
   "metadata": {},
   "source": [
    "# Lambda functions\n",
    "# ...\n",
    "# Generators\n",
    "\n",
    "Having a consistent way to iterate over sequences, like objects in a list or lines in a file, is an important Python feature. This is accomplished by means of the **iterator protocol **, a generic way to make objects iterable. For ex:, iterative over a dict yields the dict keys.\n",
    "\n",
    "\n",
    "A generator is a consise way to construct a new iterable object. Whereas normal functions execute and return a single result at a time, generators return a requence of multiple results lazily, pausing after each one until the next one is requested. To create a generator, use the yield keyword instead of return in a function.\n"
   ]
  },
  {
   "cell_type": "code",
   "execution_count": 1,
   "id": "27f22152-14ed-4f7a-ad39-1466b28b4cbc",
   "metadata": {},
   "outputs": [],
   "source": [
    "def squares(n=10):\n",
    "    print(\"generating squares from 1 to {0}\".format(n **2))\n",
    "    for i in range (1, n+1):\n",
    "        yield i **2\n",
    "          "
   ]
  },
  {
   "cell_type": "code",
   "execution_count": 2,
   "id": "296a0368-e7d9-4899-a3eb-7f21388dd1c0",
   "metadata": {},
   "outputs": [
    {
     "data": {
      "text/plain": [
       "<generator object squares at 0x000001CB33AA1EE0>"
      ]
     },
     "execution_count": 2,
     "metadata": {},
     "output_type": "execute_result"
    }
   ],
   "source": [
    "squares(3)"
   ]
  },
  {
   "cell_type": "markdown",
   "id": "dc2580b7-6745-4108-be58-3ab8b48fd868",
   "metadata": {},
   "source": [
    "# Errors and exception handling"
   ]
  },
  {
   "cell_type": "code",
   "execution_count": null,
   "id": "2d78c00c-8315-4c15-ad1b-7ab4953f21f2",
   "metadata": {},
   "outputs": [],
   "source": []
  },
  {
   "cell_type": "markdown",
   "id": "f060d744-33d7-4b52-a22e-800d4c944cc6",
   "metadata": {},
   "source": [
    "# File opening and handling"
   ]
  },
  {
   "cell_type": "code",
   "execution_count": null,
   "id": "051a745d-7738-44db-a48f-a73614239ebd",
   "metadata": {},
   "outputs": [],
   "source": []
  }
 ],
 "metadata": {
  "kernelspec": {
   "display_name": "Python 3 (ipykernel)",
   "language": "python",
   "name": "python3"
  },
  "language_info": {
   "codemirror_mode": {
    "name": "ipython",
    "version": 3
   },
   "file_extension": ".py",
   "mimetype": "text/x-python",
   "name": "python",
   "nbconvert_exporter": "python",
   "pygments_lexer": "ipython3",
   "version": "3.12.3"
  }
 },
 "nbformat": 4,
 "nbformat_minor": 5
}
